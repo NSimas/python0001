{
 "cells": [
  {
   "cell_type": "code",
   "execution_count": 9,
   "metadata": {},
   "outputs": [
    {
     "name": "stdout",
     "output_type": "stream",
     "text": [
      "a = 10, b = 20\n",
      "a = 20, b = 10\n"
     ]
    }
   ],
   "source": [
    "# Trocar o valor de duas variáveis sem usar uma terceira variável\n",
    "\n",
    "a = 10\n",
    "b = 20\n",
    "\n",
    "print(f'a = {a}, b = {b}')\n",
    "\n",
    "a, b = b, a\n",
    "\n",
    "print(f'a = {a}, b = {b}')"
   ]
  },
  {
   "cell_type": "code",
   "execution_count": 10,
   "metadata": {},
   "outputs": [],
   "source": [
    "\n",
    "def area_retangulo():\n",
    "    while True:\n",
    "        altura = input('Digite a altura (use ponto, não vírgula): ')\n",
    "        largura = input('Digite a largura (use ponto, não vírgula): ')\n",
    "        try:\n",
    "            altura = float(altura)\n",
    "            largura = float(largura)\n",
    "            \n",
    "            if altura > 0  and largura > 0:\n",
    "                print(f'A área do retângulo é {altura * largura:.2f}')\n",
    "                return altura, largura\n",
    "            else:\n",
    "                print('A altura e a largura devem ser maiores que zero.')\n",
    "        except ValueError:\n",
    "            print('Digite somente números. Use ponto como separador decimal, não use vírgula.')\n",
    "            \n",
    "\n",
    "altura, largura = area_retangulo()        \n",
    "\n"
   ]
  },
  {
   "cell_type": "code",
   "execution_count": null,
   "metadata": {},
   "outputs": [
    {
     "name": "stdout",
     "output_type": "stream",
     "text": [
      "Digite somente números. Use ponto como separador decimal, não use vírgula.\n",
      "Digite somente números. Use ponto como separador decimal, não use vírgula.\n",
      "A raiz quadrada de 666.00 é 25.81\n"
     ]
    }
   ],
   "source": [
    "import math\n",
    "\n",
    "\n",
    "def raiz_quadrada():\n",
    "    while True:\n",
    "        numero = input('Digite um número e vamos descobrir sua raiz quadrada! (use ponto, não vírgula)')\n",
    "        \n",
    "        try:\n",
    "            numero = float(numero)\n",
    "            \n",
    "            if numero > 0:\n",
    "                raiz = math.sqrt(numero)\n",
    "                print(f'A raiz quadrada de {numero:.2f} é {raiz:.2f}')\n",
    "                return raiz\n",
    "            else:\n",
    "                print('O número deve ser maior que zero.')\n",
    "        except ValueError:\n",
    "            print('Digite somente números. Use ponto como separador decimal, não use vírgula.')\n",
    "            \n",
    "\n",
    "raiz = raiz_quadrada()      "
   ]
  },
  {
   "cell_type": "code",
   "execution_count": 4,
   "metadata": {},
   "outputs": [
    {
     "name": "stdout",
     "output_type": "stream",
     "text": [
      "Foram digitados 8 caracteres!\n"
     ]
    }
   ],
   "source": [
    "# usando a função len() para retornar o tamanho de uma string\n",
    "\n",
    "def tamanho_string():\n",
    "    string = input('Digite algo e vamos descobrir quantos caracteres foram digitados!')\n",
    "    print(f'Foram digitados {len(string)} caracteres!')\n",
    "    \n",
    "texto = tamanho_string()"
   ]
  },
  {
   "cell_type": "code",
   "execution_count": 7,
   "metadata": {},
   "outputs": [
    {
     "name": "stdout",
     "output_type": "stream",
     "text": [
      "O número é zero.\n",
      "Digite somente números. Use ponto como separador decimal, não use vírgula.\n",
      "Digite somente números. Use ponto como separador decimal, não use vírgula.\n",
      "O número 2.00 é positivo.\n"
     ]
    }
   ],
   "source": [
    "def verifica_numero():\n",
    "    while True:\n",
    "        numero_1 = input('Digite um número e vamos descobrir se é positivo, negativo ou 0! (use ponto, não vírgula)')\n",
    "        \n",
    "        try:\n",
    "            numero_1 = float(numero_1)\n",
    "            \n",
    "            if numero_1 > 0:\n",
    "                print(f'O número {numero_1:.2f} é positivo.')\n",
    "                return numero_1\n",
    "            elif numero_1 < 0:\n",
    "                print(f'O número {numero_1:.2f} é negativo.')\n",
    "                return numero_1\n",
    "            else:\n",
    "                print('O número é zero.')\n",
    "                return numero_1\n",
    "        except ValueError:\n",
    "            print('Digite somente números. Use ponto como separador decimal, não use vírgula.')\n",
    "            \n",
    "exemplo = verifica_numero()"
   ]
  },
  {
   "cell_type": "code",
   "execution_count": 12,
   "metadata": {},
   "outputs": [
    {
     "name": "stdout",
     "output_type": "stream",
     "text": [
      "Digite somente números. Use ponto como separador decimal, não use vírgula.\n",
      "Digite somente números. Use ponto como separador decimal, não use vírgula.\n",
      "Digite somente números. Use ponto como separador decimal, não use vírgula.\n",
      "O 4.0 foi o maior número digitado.\n"
     ]
    }
   ],
   "source": [
    "# claro que devia ter feito uma função para validar a entrada de números, \n",
    "# assim a validação ocorre individualmente e não perderíamos o valor digitado \n",
    "# dos números ao apresentar um erro na segunda ou terceira entrada, por \n",
    "# exemplo, mas tô fazendo o simples do simples.\n",
    "\n",
    "def maior_numero():\n",
    "    while True:\n",
    "        numero_1 = input('Digite o primeiro número! (use ponto, não vírgula)')\n",
    "        numero_2 = input('Digite o segundo número! (use ponto, não vírgula)')\n",
    "        numero_3 = input('Digite o terceiro número! (use ponto, não vírgula)')\n",
    "        \n",
    "        try:\n",
    "            numero_1 = float(numero_1)\n",
    "            numero_2 = float(numero_2)\n",
    "            numero_3 = float(numero_3)\n",
    "            \n",
    "            if numero_2 > numero_1 and numero_2 > numero_3:\n",
    "                print(f'O {numero_2} foi o maior número digitado.')\n",
    "                return numero_2\n",
    "            elif numero_3 > numero_1 and numero_3 > numero_2:\n",
    "                print(f'O {numero_3} foi o maior número digitado.')\n",
    "                return numero_3\n",
    "            else:\n",
    "                print(f'O {numero_1} foi o maior número digitado.')\n",
    "                return numero_1\n",
    "        except ValueError:\n",
    "            print('Digite somente números. Use ponto como separador decimal, não use vírgula.')\n",
    "            \n",
    "exemplo = maior_numero()"
   ]
  }
 ],
 "metadata": {
  "kernelspec": {
   "display_name": "Python 3",
   "language": "python",
   "name": "python3"
  },
  "language_info": {
   "codemirror_mode": {
    "name": "ipython",
    "version": 3
   },
   "file_extension": ".py",
   "mimetype": "text/x-python",
   "name": "python",
   "nbconvert_exporter": "python",
   "pygments_lexer": "ipython3",
   "version": "3.12.5"
  }
 },
 "nbformat": 4,
 "nbformat_minor": 2
}
