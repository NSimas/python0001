{
 "cells": [
  {
   "cell_type": "code",
   "execution_count": 2,
   "metadata": {},
   "outputs": [
    {
     "name": "stdout",
     "output_type": "stream",
     "text": [
      "0\n",
      "2\n",
      "4\n",
      "6\n",
      "8\n",
      "10\n",
      "12\n",
      "14\n",
      "16\n",
      "18\n",
      "20\n",
      "22\n",
      "24\n",
      "26\n",
      "28\n",
      "30\n",
      "32\n",
      "34\n",
      "36\n",
      "38\n",
      "40\n",
      "42\n",
      "44\n",
      "46\n",
      "48\n",
      "50\n"
     ]
    }
   ],
   "source": [
    "x = 0\n",
    "while x <= 50:\n",
    "    if x % 2 == 0:\n",
    "        print(x)\n",
    "    x += 1"
   ]
  },
  {
   "cell_type": "code",
   "execution_count": 9,
   "metadata": {},
   "outputs": [
    {
     "name": "stdout",
     "output_type": "stream",
     "text": [
      "Digite somente números inteiros.\n",
      "O número é negativo.\n",
      "Digite somente números inteiros.\n",
      "O número 8 é par.\n"
     ]
    }
   ],
   "source": [
    "def par_impar():\n",
    "    while True:\n",
    "        numero = input('Digite um número e vamos descobrir se é par ou ímpar! (apenas números inteiros)')\n",
    "        \n",
    "        try:\n",
    "            numero = int(numero)\n",
    "            \n",
    "            if numero < 0:\n",
    "                print('O número é negativo.')\n",
    "                return par_impar()\n",
    "            else:\n",
    "                if numero == 0:\n",
    "                    print('O número é zero.')\n",
    "                    return par_impar()\n",
    "                elif numero % 2 == 0:\n",
    "                    print(f'O número {numero} é par.')\n",
    "                    return numero\n",
    "                else:\n",
    "                    print(f'O número {numero} é ímpar.')\n",
    "                    return numero\n",
    "                \n",
    "        except ValueError:\n",
    "            print('Digite somente números inteiros.')\n",
    "            \n",
    "exemplo = par_impar()"
   ]
  }
 ],
 "metadata": {
  "kernelspec": {
   "display_name": "Python 3",
   "language": "python",
   "name": "python3"
  },
  "language_info": {
   "codemirror_mode": {
    "name": "ipython",
    "version": 3
   },
   "file_extension": ".py",
   "mimetype": "text/x-python",
   "name": "python",
   "nbconvert_exporter": "python",
   "pygments_lexer": "ipython3",
   "version": "3.12.5"
  }
 },
 "nbformat": 4,
 "nbformat_minor": 2
}
