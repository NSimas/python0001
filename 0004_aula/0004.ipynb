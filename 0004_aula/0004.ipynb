{
 "cells": [
  {
   "cell_type": "markdown",
   "metadata": {},
   "source": [
    "Caso queira testar, deixei alguns displays e prints comentados, basta descomentar para visualizar as tabelas.\n",
    "\n",
    "Aqui vamos:\n",
    "\n",
    "    Importar uma base de dados\n",
    "    Visualizar nossa base de dados\n",
    "    Entender os dados que temos nessa base de dados\n",
    "    Encontrar as falhas da base de dados\n",
    "    Tratar a base de dados\n",
    "    Realizar a análise dos dados de cancelamento\n",
    "    Realizar uma análise detalhada dos dados de cancelamento\n",
    "\n",
    "Para que o código funcione como deveria, executar as células em sequência.\n"
   ]
  },
  {
   "cell_type": "code",
   "execution_count": null,
   "metadata": {},
   "outputs": [],
   "source": [
    "import pandas as pd\n",
    "\n",
    "tabelaCancelamentos = pd.read_csv('cancelamentos.csv')\n",
    "\n",
    "# Visualizar as primeiras linhas:\n",
    "# print(tabelaCancelamentos.head())\n",
    "\n",
    "# Visualizar toda a variável:\n",
    "# print(tabelaCancelamentos)\n",
    "\n",
    "# Visualizar as últimas linhas:\n",
    "# print(tabelaCancelamentos.tail())\n",
    "\n",
    "# Melhor visualização de tabelas:\n",
    "display(tabelaCancelamentos)"
   ]
  },
  {
   "cell_type": "code",
   "execution_count": null,
   "metadata": {},
   "outputs": [],
   "source": [
    "tabelaCancelamentos = pd.read_csv('cancelamentos.csv')\n",
    "\n",
    "# excluindo colunas que não são úteis para a análise:\n",
    "tabelaCancelamentos = tabelaCancelamentos.drop(columns='CustomerID')\n",
    "# se for excluir mais de uma coluna, basta colocar uma lista com os nomes das colunas, exemplo:\n",
    "# tabelaCancelamentos = tabelaCancelamentos.drop(columns=['CustomerID', 'idade', 'sexo', 'estado_civil', 'estado'])\n",
    "\n",
    "display(tabelaCancelamentos)"
   ]
  },
  {
   "cell_type": "code",
   "execution_count": null,
   "metadata": {},
   "outputs": [],
   "source": [
    "# A função display.info(nome_da_tabela) mostra a informação do objeto/variável, no caso, nossa base de dados\n",
    "\n",
    "display(tabelaCancelamentos.info())\n",
    "\n",
    "# Neste exemplo obtivemos a informação de que as colunas estão com valores float (números decimais) e object (texto).\n",
    "# Como há um número muito baixo de células vazias, \n",
    "# podemos excluir essas linhas sem maiores interferências no resultado da análise."
   ]
  },
  {
   "cell_type": "code",
   "execution_count": null,
   "metadata": {},
   "outputs": [],
   "source": [
    "# A função dropna() exclui as linhas com valores nulos.\n",
    "tabelaCancelamentos = tabelaCancelamentos.dropna()\n",
    "display(tabelaCancelamentos)\n",
    "display(tabelaCancelamentos.info())\n",
    "\n",
    "# antes tínhamos 881666 linhas e agora temos 881659 linhas.\n",
    "# o total de não nulos em todas as colunas é 881659, o mesmo total de linhas. Com isso tratamos os nulos.\n",
    "\n",
    "# Se fôssemos preencher as linhas nulas com algum valor, usaríamos a função fillna():\n",
    "# tabelaCancelamentos = tabelaCancelamentos.fillna(0) \n",
    "# Preencherá com 0 as células nulas."
   ]
  },
  {
   "cell_type": "code",
   "execution_count": null,
   "metadata": {},
   "outputs": [],
   "source": [
    "display(tabelaCancelamentos['cancelou'].value_counts())\n",
    "# A função value_counts() mostra a quantidade de valores únicos de uma coluna, \n",
    "# ou seja, conta quantas vezes cada valor aparece.\n",
    "\n",
    "# Para somar os valores de uma coluna, usamos a função sum().\n",
    "# Para mostrar a média dos valores de uma coluna, usamos a função mean().\n",
    "# Para mostrar a mediana dos valores de uma coluna, usamos a função median().\n",
    "# Para mostrar o desvio padrão dos valores de uma coluna, usamos a função std().\n",
    "# Para mostrar o valor máximo dos valores de uma coluna, usamos a função max().\n",
    "# Para mostrar o valor mínimo dos valores de uma coluna, usamos a função min()."
   ]
  },
  {
   "cell_type": "code",
   "execution_count": null,
   "metadata": {},
   "outputs": [],
   "source": [
    "display(tabelaCancelamentos['cancelou'].value_counts(normalize=True))\n",
    "# O parâmetro normalize=True mostra a porcentagem de cada valor único de uma coluna.\n",
    "display(tabelaCancelamentos['cancelou'].value_counts(normalize=True).map(\"{:.1%}\".format))\n",
    "# O método map(\"{:.1%}\".format) formata a porcentagem para 1 casa decimal.\n",
    "# O : informa que um número será formatado, o .1 informa que teremos uma casa decimal \n",
    "# e o % informa que o número será multiplicado por 100.\n",
    "# O método map() é utilizado para aplicar uma função a cada elemento de uma série.\n",
    "# O método format() formata o valor de acordo com o argumento passado."
   ]
  },
  {
   "cell_type": "markdown",
   "metadata": {},
   "source": [
    "Não formate, arredonde ou nada similar antes do fim das operações, pois pode (em algum momento vai, a depender de como use e/ou trate os dados) alterar algum resultado."
   ]
  },
  {
   "cell_type": "code",
   "execution_count": null,
   "metadata": {},
   "outputs": [],
   "source": [
    "# De acordo com o tempo de contrato, qual o tipo de contrato mais cancelado?\n",
    "# como que a duração de contrato impacta no cancelamento?\n",
    "import plotly.express as px\n",
    "\n",
    "\n",
    "column = 'duracao_contrato'\n",
    "for column in tabelaCancelamentos.columns:\n",
    "    # Criar o gráfico\n",
    "    graficoRelacoesCancelamentos = px.histogram(tabelaCancelamentos, x=column, color='cancelou', text_auto=True, nbins=100, title='Relação entre ' + column + ' do contrato e cancelamento')\n",
    "\n",
    "    # Mostrar o gráfico\n",
    "    graficoRelacoesCancelamentos.show()"
   ]
  },
  {
   "cell_type": "markdown",
   "metadata": {},
   "source": [
    "Documentação do Plotly para Python\n",
    "https://plotly.com/python/\n",
    "\n",
    "Daqui é possível realizar análises das bases de dados."
   ]
  }
 ],
 "metadata": {
  "kernelspec": {
   "display_name": "Python 3",
   "language": "python",
   "name": "python3"
  },
  "language_info": {
   "codemirror_mode": {
    "name": "ipython",
    "version": 3
   },
   "file_extension": ".py",
   "mimetype": "text/x-python",
   "name": "python",
   "nbconvert_exporter": "python",
   "pygments_lexer": "ipython3",
   "version": "3.12.3"
  }
 },
 "nbformat": 4,
 "nbformat_minor": 2
}
